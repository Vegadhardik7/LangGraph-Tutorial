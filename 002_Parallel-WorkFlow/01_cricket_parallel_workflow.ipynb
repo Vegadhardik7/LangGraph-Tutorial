{
 "cells": [
  {
   "cell_type": "code",
   "execution_count": 12,
   "id": "47270d5e-475c-4849-963d-5bb02bd3c604",
   "metadata": {},
   "outputs": [
    {
     "name": "stdout",
     "output_type": "stream",
     "text": [
      "{'runs': 100, 'balls': 36, 'fours': 4, 'sixes': 8, 'sr': 277.77777777777777, 'bpb': 12, 'boundary_percent': 64, 'summary': 'Strike Rate – 277.77777777777777%\\nBalls Per Boundary – 12\\nBoundary % – 64%'}\n"
     ]
    }
   ],
   "source": [
    "from langgraph.graph import StateGraph, START, END\n",
    "from typing import TypedDict\n",
    "\n",
    "class BatsmanState(TypedDict):\n",
    "    runs: int\n",
    "    balls: int\n",
    "    fours: int\n",
    "    sixes: int\n",
    "\n",
    "    sr: float\n",
    "    bpb: float\n",
    "    boundary_percent: float\n",
    "    summary: str\n",
    "\n",
    "# 1. Validation node\n",
    "def validate_boundaries(state: BatsmanState) -> BatsmanState:\n",
    "    try:\n",
    "        total_boundary_runs = state['fours'] * 4 + state['sixes'] * 6\n",
    "        if total_boundary_runs > state['runs']:\n",
    "            raise ValueError(\n",
    "                f\"Invalid stats: boundary runs ({total_boundary_runs}) \"\n",
    "                f\"exceed total runs ({state['runs']})\"\n",
    "            )\n",
    "    except Exception as e:\n",
    "        raise e\n",
    "        \n",
    "    return state\n",
    "\n",
    "# 2. Calculation nodes (fixed minor bugs)\n",
    "def calculate_sr(state: BatsmanState) -> BatsmanState:\n",
    "    sr = (state['runs'] / state['balls']) * 100\n",
    "    return {'sr':sr}\n",
    "\n",
    "def calculate_bpb(state: BatsmanState) -> BatsmanState:\n",
    "    bpb = state['fours'] + state['sixes']\n",
    "    return {'bpb':bpb}\n",
    "\n",
    "def calculate_boundary_percent(state: BatsmanState) -> BatsmanState:\n",
    "    boundary_percent = state['fours'] * 4 + state['sixes'] * 6\n",
    "    return {'boundary_percent':boundary_percent}\n",
    "\n",
    "def summary(state: BatsmanState) -> BatsmanState:\n",
    "    state['summary'] = (\n",
    "        f\"Strike Rate – {state['sr']}%\\n\"\n",
    "        f\"Balls Per Boundary – {state['bpb']}\\n\"\n",
    "        f\"Boundary % – {state['boundary_percent']}%\"\n",
    "    )\n",
    "    return state\n",
    "    \n",
    "# 3. Build the graph\n",
    "graph = StateGraph(BatsmanState)\n",
    "\n",
    "graph.add_node('validate_boundaries', validate_boundaries)\n",
    "graph.add_node('calculate_sr', calculate_sr)\n",
    "graph.add_node('calculate_bpb', calculate_bpb)\n",
    "graph.add_node('calculate_boundary_percent', calculate_boundary_percent)\n",
    "graph.add_node('summary', summary)\n",
    "\n",
    "# 4. Wire up edges\n",
    "graph.add_edge(START, 'validate_boundaries')\n",
    "\n",
    "# Only if validation passes do we branch into the three metrics\n",
    "graph.add_edge('validate_boundaries', 'calculate_sr')\n",
    "graph.add_edge('validate_boundaries', 'calculate_bpb')\n",
    "graph.add_edge('validate_boundaries', 'calculate_boundary_percent')\n",
    "\n",
    "# Converge into summary\n",
    "graph.add_edge('calculate_sr', 'summary')\n",
    "graph.add_edge('calculate_bpb', 'summary')\n",
    "graph.add_edge('calculate_boundary_percent', 'summary')\n",
    "\n",
    "graph.add_edge('summary', END)\n",
    "\n",
    "workflow = graph.compile()\n",
    "\n",
    "# 5. Execute\n",
    "initial_state: BatsmanState = {\n",
    "    \"runs\": 100,\n",
    "    \"balls\": 36,\n",
    "    \"fours\": 4,\n",
    "    \"sixes\": 8}\n",
    "\n",
    "print(workflow.invoke(initial_state))"
   ]
  },
  {
   "cell_type": "markdown",
   "id": "b4b4c163-ef22-4c35-a373-37af30258233",
   "metadata": {},
   "source": [
    "### Visualizing the WorkFlow"
   ]
  },
  {
   "cell_type": "code",
   "execution_count": 13,
   "id": "c4b38bb0-c07b-4030-893e-6cb3ce924ac8",
   "metadata": {},
   "outputs": [
    {
     "data": {
      "image/png": "[encoded data removed]",
      "text/plain": [
       "<IPython.core.display.Image object>"
      ]
     },
     "execution_count": 13,
     "metadata": {},
     "output_type": "execute_result"
    }
   ],
   "source": [
    "from IPython.display import Image\n",
    "Image(workflow.get_graph().draw_mermaid_png())"
   ]
  },
  {
   "cell_type": "code",
   "execution_count": null,
   "id": "76bb48f0-2e71-47e9-85c0-18a2680d7d10",
   "metadata": {},
   "outputs": [],
   "source": []
  }
 ],
 "metadata": {
  "kernelspec": {
   "display_name": "Python (.lang-graph)",
   "language": "python",
   "name": "lang_graph"
  },
  "language_info": {
   "codemirror_mode": {
    "name": "ipython",
    "version": 3
   },
   "file_extension": ".py",
   "mimetype": "text/x-python",
   "name": "python",
   "nbconvert_exporter": "python",
   "pygments_lexer": "ipython3",
   "version": "3.11.0"
  }
 },
 "nbformat": 4,
 "nbformat_minor": 5
}
