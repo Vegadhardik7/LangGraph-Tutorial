{
 "cells": [
  {
   "cell_type": "markdown",
   "id": "ba3294eb-b9ca-4965-b154-c70b5253c0fa",
   "metadata": {},
   "source": [
    "# Prompt Chaining WorkFlow: Generate Blog"
   ]
  },
  {
   "cell_type": "code",
   "execution_count": 14,
   "id": "9ef34e26-3b92-4db4-ac1b-c893704f4b36",
   "metadata": {
    "scrolled": true
   },
   "outputs": [
    {
     "name": "stdin",
     "output_type": "stream",
     "text": [
      "Enter the question:  Chess\n"
     ]
    },
    {
     "name": "stderr",
     "output_type": "stream",
     "text": [
      "D:\\LangGraph\\.lang-graph\\Lib\\site-packages\\langchain_google_genai\\chat_models.py:357: UserWarning: Convert_system_message_to_human will be deprecated!\n",
      "  warnings.warn(\"Convert_system_message_to_human will be deprecated!\")\n",
      "D:\\LangGraph\\.lang-graph\\Lib\\site-packages\\langchain_google_genai\\chat_models.py:357: UserWarning: Convert_system_message_to_human will be deprecated!\n",
      "  warnings.warn(\"Convert_system_message_to_human will be deprecated!\")\n",
      "D:\\LangGraph\\.lang-graph\\Lib\\site-packages\\langchain_google_genai\\chat_models.py:357: UserWarning: Convert_system_message_to_human will be deprecated!\n",
      "  warnings.warn(\"Convert_system_message_to_human will be deprecated!\")\n"
     ]
    },
    {
     "name": "stdout",
     "output_type": "stream",
     "text": [
      "{'title': 'Chess', 'outline': \"**I. Introduction:** Briefly define chess and its enduring appeal.\\n\\n**II.  Basics:**  Mention key pieces, movement, and the objective (checkmate).\\n\\n**III.  Strategic Elements:**  Touch upon key concepts like piece development, controlling the center, and king safety (briefly).\\n\\n**IV.  Getting Started:** Suggest resources for beginners (apps, websites, books).\\n\\n**V.  Beyond the Basics:** Hint at the depth and complexity, encouraging further exploration.\\n\\n**VI. Conclusion:** Reiterate chess's accessibility and rewarding nature.\", 'content': \"## Chess: A World in 64 Squares\\n\\nChess. The word conjures images of intense concentration, strategic brilliance, and the quiet click of pieces on a polished board.  More than just a game, it's a microcosm of life, a battle of wits played out on a miniature battlefield.  But what makes chess so captivating, especially for beginners?\\n\\nThe beauty of chess lies in its simplicity and complexity.  The rules are easily learned: move your pieces according to their defined movements, capture your opponent's pieces, and checkmate their king. Yet, within this simple framework lies an ocean of strategic depth.  Millions of possible games can unfold from the opening move, each a unique narrative shaped by player choices.\\n\\nStarting out can feel overwhelming.  Memorizing openings might seem crucial, but it's far more beneficial to focus on understanding fundamental principles.  Control the center, develop your pieces efficiently, protect your king, and attack when opportunities arise.  These core concepts guide your strategy, regardless of the specific opening you choose.\\n\\nOnline resources abound for learning.  Websites and apps offer lessons, puzzles, and the chance to play against others, from novices to grandmasters.  Don't be afraid to lose – every defeat is a learning experience. Analyze your games, identify your mistakes, and strive to improve.\\n\\nThe chess community is incredibly welcoming.  Online forums and local clubs provide opportunities to connect with fellow enthusiasts, share strategies, and learn from more experienced players.  The camaraderie and shared passion for the game are a significant part of the experience.\\n\\nChess isn't just about winning.  It's about the journey, the constant learning, and the intellectual stimulation. It sharpens your mind, improves your planning skills, and teaches you the importance of patience and perseverance.  So, whether you're a seasoned strategist or a curious newcomer, step onto the board, embrace the challenge, and discover the captivating world within 64 squares.  You might just surprise yourself.\", 'score': 'I\\'d score this blog post an 8.5/10.\\n\\n**Strengths:**\\n\\n* **Engaging Introduction:** The opening paragraph immediately grabs the reader\\'s attention with evocative imagery and a strong thesis statement.\\n* **Clear and Concise Writing:** The language is clear, concise, and accessible to a broad audience, including beginners.\\n* **Well-Structured Argument:** The post logically progresses from introducing the game to discussing learning resources and the community aspect.\\n* **Strong Conclusion:** The concluding paragraph effectively summarizes the key points and encourages readers to try chess.\\n* **Good Use of Rhetorical Devices:** The post uses metaphors effectively (e.g., \"microcosm of life,\" \"ocean of strategic depth\") to enhance engagement.\\n* **Practical Advice:**  The advice given (focus on principles over memorization, analyze your games) is valuable and actionable.\\n\\n\\n**Areas for Improvement:**\\n\\n* **Could be More Specific:** While the post mentions online resources, providing a few specific examples (e.g., Chess.com, Lichess.org) would enhance its practical value.\\n* **Visuals:**  Adding an image or two (perhaps a visually appealing chessboard or a photo of people playing chess) would significantly improve the blog\\'s appeal.\\n* **Call to Action:** While the conclusion encourages readers to play, a more direct call to action (e.g., \"Start your chess journey today by visiting [link to resource]\") would be beneficial.\\n\\nThe blog post is well-written and engaging, making it a good resource for beginners.  The minor improvements suggested would elevate it to an even higher level.'}\n"
     ]
    }
   ],
   "source": [
    "from langgraph.graph import StateGraph, START, END\n",
    "from langchain_google_genai import ChatGoogleGenerativeAI\n",
    "from typing import TypedDict\n",
    "from dotenv import load_dotenv\n",
    "import os\n",
    "\n",
    "# load env\n",
    "load_dotenv()\n",
    "\n",
    "# load keys\n",
    "GOOGLE_API_KEY = os.getenv(\"GOOGLE_API_KEY\")\n",
    "\n",
    "# load model\n",
    "model = ChatGoogleGenerativeAI(\n",
    "        model=\"models/gemini-1.5-flash-latest\",\n",
    "        temperature=0.6,\n",
    "        convert_system_message_to_human=True\n",
    "    )\n",
    "\n",
    "# create a state\n",
    "class BlogState(TypedDict):\n",
    "    title: str\n",
    "    outline: str\n",
    "    content: str\n",
    "    score: str\n",
    "\n",
    "# create our graph\n",
    "graph = StateGraph(BlogState)\n",
    "\n",
    "# functions\n",
    "def create_outline(state: BlogState) -> BlogState:\n",
    "    # fetch title\n",
    "    title = state['title']\n",
    "    \n",
    "    # from a prompt\n",
    "    prompt = f\"Generate an detailed outline for a blog on topic - {title} under 100 words\"\n",
    "\n",
    "    # call to LLM\n",
    "    outline = model.invoke(prompt).content\n",
    "\n",
    "    # update the answer in the state\n",
    "    state['outline'] = outline\n",
    "    return state\n",
    "\n",
    "def create_blog(state: BlogState) -> BlogState:\n",
    "    # fetch title\n",
    "    title = state['title']\n",
    "    outline = state['outline']\n",
    "    \n",
    "    # from a prompt\n",
    "    prompt = f\"Generate an detailed blog for a blog on topic - {title} under 500 workds only\"\n",
    "\n",
    "    # call to LLM\n",
    "    content = model.invoke(prompt).content\n",
    "\n",
    "    # update the answer in the state\n",
    "    state['content'] = content\n",
    "    return state\n",
    "\n",
    "def score_blog(state: BlogState) -> BlogState:\n",
    "    # fetch title\n",
    "    title = state['title']\n",
    "    outline = state['outline']\n",
    "    content = state['content']\n",
    "    \n",
    "    # from a prompt\n",
    "    prompt = f\"based on english and blog template score my blog out of 10- {content}\"\n",
    "\n",
    "    # call to LLM\n",
    "    score = model.invoke(prompt).content\n",
    "\n",
    "    # update the answer in the state\n",
    "    state['score'] = score\n",
    "    return state\n",
    "\n",
    "# add nodes\n",
    "graph.add_node('create_outline', create_outline)\n",
    "graph.add_node('create_blog', create_blog)\n",
    "graph.add_node('score_blog', score_blog)\n",
    "\n",
    "# add edges\n",
    "graph.add_edge(START, 'create_outline')\n",
    "graph.add_edge('create_outline','create_blog')\n",
    "graph.add_edge('create_blog','score_blog')\n",
    "graph.add_edge('score_blog', END)\n",
    "\n",
    "# complie graph\n",
    "workflow = graph.compile()\n",
    "\n",
    "# excecute\n",
    "query = input(\"Enter the question: \")\n",
    "initial_state = {\"title\":str(query)}\n",
    "\n",
    "final_state = workflow.invoke(initial_state)\n",
    "\n",
    "print(final_state)"
   ]
  },
  {
   "cell_type": "code",
   "execution_count": 16,
   "id": "fb15705f-9b57-4f4d-862d-9bde4f1fc9b2",
   "metadata": {},
   "outputs": [
    {
     "name": "stdout",
     "output_type": "stream",
     "text": [
      "Title:\n",
      "\n",
      "Chess\n",
      "\n",
      "------------------------------\n",
      "\n",
      "Outline:\n",
      "\n",
      "**I. Introduction:** Briefly define chess and its enduring appeal.\n",
      "\n",
      "**II.  Basics:**  Mention key pieces, movement, and the objective (checkmate).\n",
      "\n",
      "**III.  Strategic Elements:**  Touch upon key concepts like piece development, controlling the center, and king safety (briefly).\n",
      "\n",
      "**IV.  Getting Started:** Suggest resources for beginners (apps, websites, books).\n",
      "\n",
      "**V.  Beyond the Basics:** Hint at the depth and complexity, encouraging further exploration.\n",
      "\n",
      "**VI. Conclusion:** Reiterate chess's accessibility and rewarding nature.\n",
      "\n",
      "------------------------------\n",
      "\n",
      "Blog:\n",
      "\n",
      "## Chess: A World in 64 Squares\n",
      "\n",
      "Chess. The word conjures images of intense concentration, strategic brilliance, and the quiet click of pieces on a polished board.  More than just a game, it's a microcosm of life, a battle of wits played out on a miniature battlefield.  But what makes chess so captivating, especially for beginners?\n",
      "\n",
      "The beauty of chess lies in its simplicity and complexity.  The rules are easily learned: move your pieces according to their defined movements, capture your opponent's pieces, and checkmate their king. Yet, within this simple framework lies an ocean of strategic depth.  Millions of possible games can unfold from the opening move, each a unique narrative shaped by player choices.\n",
      "\n",
      "Starting out can feel overwhelming.  Memorizing openings might seem crucial, but it's far more beneficial to focus on understanding fundamental principles.  Control the center, develop your pieces efficiently, protect your king, and attack when opportunities arise.  These core concepts guide your strategy, regardless of the specific opening you choose.\n",
      "\n",
      "Online resources abound for learning.  Websites and apps offer lessons, puzzles, and the chance to play against others, from novices to grandmasters.  Don't be afraid to lose – every defeat is a learning experience. Analyze your games, identify your mistakes, and strive to improve.\n",
      "\n",
      "The chess community is incredibly welcoming.  Online forums and local clubs provide opportunities to connect with fellow enthusiasts, share strategies, and learn from more experienced players.  The camaraderie and shared passion for the game are a significant part of the experience.\n",
      "\n",
      "Chess isn't just about winning.  It's about the journey, the constant learning, and the intellectual stimulation. It sharpens your mind, improves your planning skills, and teaches you the importance of patience and perseverance.  So, whether you're a seasoned strategist or a curious newcomer, step onto the board, embrace the challenge, and discover the captivating world within 64 squares.  You might just surprise yourself.\n",
      "\n",
      "------------------------------\n",
      "\n",
      "Score:\n",
      "\n",
      "I'd score this blog post an 8.5/10.\n",
      "\n",
      "**Strengths:**\n",
      "\n",
      "* **Engaging Introduction:** The opening paragraph immediately grabs the reader's attention with evocative imagery and a strong thesis statement.\n",
      "* **Clear and Concise Writing:** The language is clear, concise, and accessible to a broad audience, including beginners.\n",
      "* **Well-Structured Argument:** The post logically progresses from introducing the game to discussing learning resources and the community aspect.\n",
      "* **Strong Conclusion:** The concluding paragraph effectively summarizes the key points and encourages readers to try chess.\n",
      "* **Good Use of Rhetorical Devices:** The post uses metaphors effectively (e.g., \"microcosm of life,\" \"ocean of strategic depth\") to enhance engagement.\n",
      "* **Practical Advice:**  The advice given (focus on principles over memorization, analyze your games) is valuable and actionable.\n",
      "\n",
      "\n",
      "**Areas for Improvement:**\n",
      "\n",
      "* **Could be More Specific:** While the post mentions online resources, providing a few specific examples (e.g., Chess.com, Lichess.org) would enhance its practical value.\n",
      "* **Visuals:**  Adding an image or two (perhaps a visually appealing chessboard or a photo of people playing chess) would significantly improve the blog's appeal.\n",
      "* **Call to Action:** While the conclusion encourages readers to play, a more direct call to action (e.g., \"Start your chess journey today by visiting [link to resource]\") would be beneficial.\n",
      "\n",
      "The blog post is well-written and engaging, making it a good resource for beginners.  The minor improvements suggested would elevate it to an even higher level.\n",
      "\n",
      "------------------------------\n",
      "\n"
     ]
    }
   ],
   "source": [
    "# title\n",
    "print(\"Title:\\n\")\n",
    "print(final_state['title'])\n",
    "print(f\"\\n{'-'*30}\\n\")\n",
    "\n",
    "# outline\n",
    "print(\"Outline:\\n\")\n",
    "print(final_state['outline'])\n",
    "print(f\"\\n{'-'*30}\\n\")\n",
    "\n",
    "# blog\n",
    "print(\"Blog:\\n\")\n",
    "print(final_state['content'])\n",
    "print(f\"\\n{'-'*30}\\n\")\n",
    "\n",
    "# score\n",
    "print(\"Score:\\n\")\n",
    "print(final_state['score'])\n",
    "print(f\"\\n{'-'*30}\\n\")"
   ]
  },
  {
   "cell_type": "code",
   "execution_count": 15,
   "id": "eb110be0-206d-47cd-b0ab-f343fcee6ce0",
   "metadata": {},
   "outputs": [
    {
     "data": {
      "text/plain": [
       "dict_keys(['title', 'outline', 'content', 'score'])"
      ]
     },
     "execution_count": 15,
     "metadata": {},
     "output_type": "execute_result"
    }
   ],
   "source": [
    "final_state.keys()"
   ]
  },
  {
   "cell_type": "markdown",
   "id": "577c4de5-75b6-41db-86b1-296c7022977a",
   "metadata": {},
   "source": [
    "### Visualize the above workflow"
   ]
  },
  {
   "cell_type": "code",
   "execution_count": 17,
   "id": "5f908503-f373-4e5c-8931-bdeea98d1b4c",
   "metadata": {},
   "outputs": [
    {
     "data": {
      "image/png": "[encoded data removed]",
      "text/plain": [
       "<IPython.core.display.Image object>"
      ]
     },
     "execution_count": 17,
     "metadata": {},
     "output_type": "execute_result"
    }
   ],
   "source": [
    "from IPython.display import Image\n",
    "Image(workflow.get_graph().draw_mermaid_png())"
   ]
  },
  {
   "cell_type": "code",
   "execution_count": null,
   "id": "94222e34-9a6f-41cd-ac87-ff679ef2d816",
   "metadata": {},
   "outputs": [],
   "source": []
  }
 ],
 "metadata": {
  "kernelspec": {
   "display_name": "Python (.lang-graph)",
   "language": "python",
   "name": "lang_graph"
  },
  "language_info": {
   "codemirror_mode": {
    "name": "ipython",
    "version": 3
   },
   "file_extension": ".py",
   "mimetype": "text/x-python",
   "name": "python",
   "nbconvert_exporter": "python",
   "pygments_lexer": "ipython3",
   "version": "3.11.0"
  }
 },
 "nbformat": 4,
 "nbformat_minor": 5
}
