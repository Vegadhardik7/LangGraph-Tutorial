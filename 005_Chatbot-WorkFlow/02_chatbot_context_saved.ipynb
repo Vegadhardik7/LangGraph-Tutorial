{
 "cells": [
  {
   "cell_type": "code",
   "execution_count": 1,
   "id": "ca972d13-ffff-47f0-8dd5-544158e8c455",
   "metadata": {},
   "outputs": [
    {
     "name": "stderr",
     "output_type": "stream",
     "text": [
      "D:\\LangGraph\\.lang-graph\\Lib\\site-packages\\tqdm\\auto.py:21: TqdmWarning: IProgress not found. Please update jupyter and ipywidgets. See https://ipywidgets.readthedocs.io/en/stable/user_install.html\n",
      "  from .autonotebook import tqdm as notebook_tqdm\n"
     ]
    }
   ],
   "source": [
    "from langgraph.graph import StateGraph, START, END\n",
    "from pydantic import BaseModel, Field\n",
    "from typing import TypedDict, Literal, Annotated\n",
    "from langgraph.graph.message import add_messages\n",
    "from langchain_core.messages import SystemMessage, HumanMessage, BaseMessage\n",
    "from langchain_google_genai import ChatGoogleGenerativeAI\n",
    "from langgraph.checkpoint.memory import MemorySaver\n",
    "from dotenv import load_dotenv\n",
    "import operator\n",
    "import os"
   ]
  },
  {
   "cell_type": "code",
   "execution_count": 2,
   "id": "5a17ece3-f5b6-4d5c-94b3-7a537e262779",
   "metadata": {},
   "outputs": [],
   "source": [
    "# The nature of the state it to forget the previous context, thats why we use reducer function.\n",
    "class ChatState(TypedDict):\n",
    "    message: Annotated[list[BaseMessage], add_messages]"
   ]
  },
  {
   "cell_type": "code",
   "execution_count": 3,
   "id": "c376bf4f-ea5e-4d24-a175-01ea00c94457",
   "metadata": {},
   "outputs": [],
   "source": [
    "# 1. Load environment\n",
    "load_dotenv()\n",
    "GOOGLE_API_KEY = os.getenv(\"GOOGLE_API_KEY\")\n",
    "\n",
    "# 2. Instantiate LLMs\n",
    "llm = ChatGoogleGenerativeAI(\n",
    "    model=\"models/gemini-1.5-flash-latest\",\n",
    "    temperature=0.8,\n",
    "    convert_system_message_to_human=True\n",
    ")"
   ]
  },
  {
   "cell_type": "code",
   "execution_count": 4,
   "id": "6672c072-673d-4caa-95c5-60aae29295df",
   "metadata": {},
   "outputs": [],
   "source": [
    "# define nodes\n",
    "def chat_node(state: ChatState):\n",
    "    # take user query from state\n",
    "    message = state['message']\n",
    "\n",
    "    # send to llm\n",
    "    response = llm.invoke(message)\n",
    "    \n",
    "    # response store state\n",
    "    return {'message':[response]}"
   ]
  },
  {
   "cell_type": "code",
   "execution_count": 5,
   "id": "ff8d5aab-0ea5-49db-8df9-9221d0cebc20",
   "metadata": {},
   "outputs": [
    {
     "data": {
      "image/png": "[encoded data removed]",
      "text/plain": [
       "<langgraph.graph.state.CompiledStateGraph object at 0x000001A425D10290>"
      ]
     },
     "execution_count": 5,
     "metadata": {},
     "output_type": "execute_result"
    }
   ],
   "source": [
    "checkpointer = MemorySaver()\n",
    "graph = StateGraph(ChatState)\n",
    "\n",
    "# add nodes \n",
    "graph.add_node('chat_node',chat_node)\n",
    "\n",
    "# add edge\n",
    "graph.add_edge(START, 'chat_node')\n",
    "graph.add_edge('chat_node', END)\n",
    "\n",
    "chatbot = graph.compile(checkpointer=checkpointer)\n",
    "chatbot"
   ]
  },
  {
   "cell_type": "code",
   "execution_count": 7,
   "id": "c8f66261-ad6b-4b15-903e-4806819c9c93",
   "metadata": {},
   "outputs": [],
   "source": [
    "# initial_state = {\n",
    "#     'message': [HumanMessage(content='what is the capital of India?')]\n",
    "# }\n",
    "# chatbot.invoke(initial_state)"
   ]
  },
  {
   "cell_type": "code",
   "execution_count": 8,
   "id": "b96438bb-2984-47ba-8828-a6ce3784e71d",
   "metadata": {},
   "outputs": [
    {
     "name": "stdin",
     "output_type": "stream",
     "text": [
      "Type here:  what is capital of USA?\n"
     ]
    },
    {
     "name": "stdout",
     "output_type": "stream",
     "text": [
      "User: what is capital of USA?\n"
     ]
    },
    {
     "name": "stderr",
     "output_type": "stream",
     "text": [
      "D:\\LangGraph\\.lang-graph\\Lib\\site-packages\\langchain_google_genai\\chat_models.py:357: UserWarning: Convert_system_message_to_human will be deprecated!\n",
      "  warnings.warn(\"Convert_system_message_to_human will be deprecated!\")\n"
     ]
    },
    {
     "name": "stdout",
     "output_type": "stream",
     "text": [
      "AI: The capital of the USA is **Washington, D.C.**\n"
     ]
    },
    {
     "name": "stdin",
     "output_type": "stream",
     "text": [
      "Type here:  and China?\n"
     ]
    },
    {
     "name": "stdout",
     "output_type": "stream",
     "text": [
      "User: and China?\n"
     ]
    },
    {
     "name": "stderr",
     "output_type": "stream",
     "text": [
      "D:\\LangGraph\\.lang-graph\\Lib\\site-packages\\langchain_google_genai\\chat_models.py:357: UserWarning: Convert_system_message_to_human will be deprecated!\n",
      "  warnings.warn(\"Convert_system_message_to_human will be deprecated!\")\n"
     ]
    },
    {
     "name": "stdout",
     "output_type": "stream",
     "text": [
      "AI: The capital of China is **Beijing**.\n"
     ]
    },
    {
     "name": "stdin",
     "output_type": "stream",
     "text": [
      "Type here:  and New Delhi?\n"
     ]
    },
    {
     "name": "stdout",
     "output_type": "stream",
     "text": [
      "User: and New Delhi?\n"
     ]
    },
    {
     "name": "stderr",
     "output_type": "stream",
     "text": [
      "D:\\LangGraph\\.lang-graph\\Lib\\site-packages\\langchain_google_genai\\chat_models.py:357: UserWarning: Convert_system_message_to_human will be deprecated!\n",
      "  warnings.warn(\"Convert_system_message_to_human will be deprecated!\")\n"
     ]
    },
    {
     "name": "stdout",
     "output_type": "stream",
     "text": [
      "AI: New Delhi *is* the capital of India.\n"
     ]
    },
    {
     "name": "stdin",
     "output_type": "stream",
     "text": [
      "Type here:  bye\n"
     ]
    },
    {
     "name": "stdout",
     "output_type": "stream",
     "text": [
      "User: bye\n"
     ]
    }
   ],
   "source": [
    "thread_id = '1'\n",
    "\n",
    "while True:\n",
    "    user_msg = input(\"Type here: \")\n",
    "    print(\"User:\", user_msg)\n",
    "    if user_msg.strip().lower() in ['exit', 'quit', 'bye']:\n",
    "        break\n",
    "    config={'configurable':{'thread_id':thread_id}}\n",
    "    response = chatbot.invoke({'message':[HumanMessage(content=user_msg)]}, config=config)\n",
    "    print(\"AI:\", response['message'][-1].content)"
   ]
  },
  {
   "cell_type": "code",
   "execution_count": 12,
   "id": "9ef56b08-e176-4c42-84df-ae95a760ed08",
   "metadata": {},
   "outputs": [
    {
     "data": {
      "text/plain": [
       "{'message': [HumanMessage(content='what is capital of USA?', additional_kwargs={}, response_metadata={}, id='4af99ff7-a35f-490b-9fd4-ed29e1f5d3a5'),\n",
       "  AIMessage(content='The capital of the USA is **Washington, D.C.**', additional_kwargs={}, response_metadata={'prompt_feedback': {'block_reason': 0, 'safety_ratings': []}, 'finish_reason': 'STOP', 'safety_ratings': []}, id='run--843fa5ce-44e5-43af-a8d2-956d053a12ed-0', usage_metadata={'input_tokens': 6, 'output_tokens': 14, 'total_tokens': 20, 'input_token_details': {'cache_read': 0}}),\n",
       "  HumanMessage(content='and China?', additional_kwargs={}, response_metadata={}, id='2df9fc8f-585f-4511-911e-bba2efdfe8ed'),\n",
       "  AIMessage(content='The capital of China is **Beijing**.', additional_kwargs={}, response_metadata={'prompt_feedback': {'block_reason': 0, 'safety_ratings': []}, 'finish_reason': 'STOP', 'safety_ratings': []}, id='run--e31ed995-1a09-4d2d-aa57-b45c49a0c3f0-0', usage_metadata={'input_tokens': 22, 'output_tokens': 9, 'total_tokens': 31, 'input_token_details': {'cache_read': 0}}),\n",
       "  HumanMessage(content='and New Delhi?', additional_kwargs={}, response_metadata={}, id='08146817-9a47-419e-bab3-7034ad766338'),\n",
       "  AIMessage(content='New Delhi *is* the capital of India.', additional_kwargs={}, response_metadata={'prompt_feedback': {'block_reason': 0, 'safety_ratings': []}, 'finish_reason': 'STOP', 'safety_ratings': []}, id='run--a008bc4b-c54e-49d6-8f6f-40fb214db4f7-0', usage_metadata={'input_tokens': 34, 'output_tokens': 11, 'total_tokens': 45, 'input_token_details': {'cache_read': 0}})]}"
      ]
     },
     "execution_count": 12,
     "metadata": {},
     "output_type": "execute_result"
    }
   ],
   "source": [
    "chatbot.get_state(config=config)[0]"
   ]
  },
  {
   "cell_type": "code",
   "execution_count": 14,
   "id": "3cf18b1c-ff65-491b-a929-bce90033cc30",
   "metadata": {},
   "outputs": [
    {
     "name": "stdout",
     "output_type": "stream",
     "text": [
      "StateSnapshot(values={'message': [HumanMessage(content='what is capital of USA?', additional_kwargs={}, response_metadata={}, id='4af99ff7-a35f-490b-9fd4-ed29e1f5d3a5'), AIMessage(content='The capital of the USA is **Washington, D.C.**', additional_kwargs={}, response_metadata={'prompt_feedback': {'block_reason': 0, 'safety_ratings': []}, 'finish_reason': 'STOP', 'safety_ratings': []}, id='run--843fa5ce-44e5-43af-a8d2-956d053a12ed-0', usage_metadata={'input_tokens': 6, 'output_tokens': 14, 'total_tokens': 20, 'input_token_details': {'cache_read': 0}}), HumanMessage(content='and China?', additional_kwargs={}, response_metadata={}, id='2df9fc8f-585f-4511-911e-bba2efdfe8ed'), AIMessage(content='The capital of China is **Beijing**.', additional_kwargs={}, response_metadata={'prompt_feedback': {'block_reason': 0, 'safety_ratings': []}, 'finish_reason': 'STOP', 'safety_ratings': []}, id='run--e31ed995-1a09-4d2d-aa57-b45c49a0c3f0-0', usage_metadata={'input_tokens': 22, 'output_tokens': 9, 'total_tokens': 31, 'input_token_details': {'cache_read': 0}}), HumanMessage(content='and New Delhi?', additional_kwargs={}, response_metadata={}, id='08146817-9a47-419e-bab3-7034ad766338'), AIMessage(content='New Delhi *is* the capital of India.', additional_kwargs={}, response_metadata={'prompt_feedback': {'block_reason': 0, 'safety_ratings': []}, 'finish_reason': 'STOP', 'safety_ratings': []}, id='run--a008bc4b-c54e-49d6-8f6f-40fb214db4f7-0', usage_metadata={'input_tokens': 34, 'output_tokens': 11, 'total_tokens': 45, 'input_token_details': {'cache_read': 0}})]}, next=(), config={'configurable': {'thread_id': '1', 'checkpoint_ns': '', 'checkpoint_id': '1f079d5d-a70e-69c5-8007-664deb834508'}}, metadata={'source': 'loop', 'step': 7, 'parents': {}}, created_at='2025-08-15T12:46:24.831328+00:00', parent_config={'configurable': {'thread_id': '1', 'checkpoint_ns': '', 'checkpoint_id': '1f079d5d-7d61-6d41-8006-1dd106c7d956'}}, tasks=(), interrupts=())\n",
      "StateSnapshot(values={'message': [HumanMessage(content='what is capital of USA?', additional_kwargs={}, response_metadata={}, id='4af99ff7-a35f-490b-9fd4-ed29e1f5d3a5'), AIMessage(content='The capital of the USA is **Washington, D.C.**', additional_kwargs={}, response_metadata={'prompt_feedback': {'block_reason': 0, 'safety_ratings': []}, 'finish_reason': 'STOP', 'safety_ratings': []}, id='run--843fa5ce-44e5-43af-a8d2-956d053a12ed-0', usage_metadata={'input_tokens': 6, 'output_tokens': 14, 'total_tokens': 20, 'input_token_details': {'cache_read': 0}}), HumanMessage(content='and China?', additional_kwargs={}, response_metadata={}, id='2df9fc8f-585f-4511-911e-bba2efdfe8ed'), AIMessage(content='The capital of China is **Beijing**.', additional_kwargs={}, response_metadata={'prompt_feedback': {'block_reason': 0, 'safety_ratings': []}, 'finish_reason': 'STOP', 'safety_ratings': []}, id='run--e31ed995-1a09-4d2d-aa57-b45c49a0c3f0-0', usage_metadata={'input_tokens': 22, 'output_tokens': 9, 'total_tokens': 31, 'input_token_details': {'cache_read': 0}}), HumanMessage(content='and New Delhi?', additional_kwargs={}, response_metadata={}, id='08146817-9a47-419e-bab3-7034ad766338')]}, next=('chat_node',), config={'configurable': {'thread_id': '1', 'checkpoint_ns': '', 'checkpoint_id': '1f079d5d-7d61-6d41-8006-1dd106c7d956'}}, metadata={'source': 'loop', 'step': 6, 'parents': {}}, created_at='2025-08-15T12:46:20.461395+00:00', parent_config={'configurable': {'thread_id': '1', 'checkpoint_ns': '', 'checkpoint_id': '1f079d5d-7d61-6d40-8005-5c94fcd5b95a'}}, tasks=(PregelTask(id='3c303fa3-4459-6a63-e3f8-7cd416b68676', name='chat_node', path=('__pregel_pull', 'chat_node'), error=None, interrupts=(), state=None, result={'message': [AIMessage(content='New Delhi *is* the capital of India.', additional_kwargs={}, response_metadata={'prompt_feedback': {'block_reason': 0, 'safety_ratings': []}, 'finish_reason': 'STOP', 'safety_ratings': []}, id='run--a008bc4b-c54e-49d6-8f6f-40fb214db4f7-0', usage_metadata={'input_tokens': 34, 'output_tokens': 11, 'total_tokens': 45, 'input_token_details': {'cache_read': 0}})]}),), interrupts=())\n",
      "StateSnapshot(values={'message': [HumanMessage(content='what is capital of USA?', additional_kwargs={}, response_metadata={}, id='4af99ff7-a35f-490b-9fd4-ed29e1f5d3a5'), AIMessage(content='The capital of the USA is **Washington, D.C.**', additional_kwargs={}, response_metadata={'prompt_feedback': {'block_reason': 0, 'safety_ratings': []}, 'finish_reason': 'STOP', 'safety_ratings': []}, id='run--843fa5ce-44e5-43af-a8d2-956d053a12ed-0', usage_metadata={'input_tokens': 6, 'output_tokens': 14, 'total_tokens': 20, 'input_token_details': {'cache_read': 0}}), HumanMessage(content='and China?', additional_kwargs={}, response_metadata={}, id='2df9fc8f-585f-4511-911e-bba2efdfe8ed'), AIMessage(content='The capital of China is **Beijing**.', additional_kwargs={}, response_metadata={'prompt_feedback': {'block_reason': 0, 'safety_ratings': []}, 'finish_reason': 'STOP', 'safety_ratings': []}, id='run--e31ed995-1a09-4d2d-aa57-b45c49a0c3f0-0', usage_metadata={'input_tokens': 22, 'output_tokens': 9, 'total_tokens': 31, 'input_token_details': {'cache_read': 0}})]}, next=('__start__',), config={'configurable': {'thread_id': '1', 'checkpoint_ns': '', 'checkpoint_id': '1f079d5d-7d61-6d40-8005-5c94fcd5b95a'}}, metadata={'source': 'input', 'step': 5, 'parents': {}}, created_at='2025-08-15T12:46:20.461395+00:00', parent_config={'configurable': {'thread_id': '1', 'checkpoint_ns': '', 'checkpoint_id': '1f079d5c-e13e-6d58-8004-e8528b9fdbc0'}}, tasks=(PregelTask(id='8afaa60c-173e-1511-c078-1002f5844bde', name='__start__', path=('__pregel_pull', '__start__'), error=None, interrupts=(), state=None, result={'message': [HumanMessage(content='and New Delhi?', additional_kwargs={}, response_metadata={}, id='08146817-9a47-419e-bab3-7034ad766338')]}),), interrupts=())\n",
      "StateSnapshot(values={'message': [HumanMessage(content='what is capital of USA?', additional_kwargs={}, response_metadata={}, id='4af99ff7-a35f-490b-9fd4-ed29e1f5d3a5'), AIMessage(content='The capital of the USA is **Washington, D.C.**', additional_kwargs={}, response_metadata={'prompt_feedback': {'block_reason': 0, 'safety_ratings': []}, 'finish_reason': 'STOP', 'safety_ratings': []}, id='run--843fa5ce-44e5-43af-a8d2-956d053a12ed-0', usage_metadata={'input_tokens': 6, 'output_tokens': 14, 'total_tokens': 20, 'input_token_details': {'cache_read': 0}}), HumanMessage(content='and China?', additional_kwargs={}, response_metadata={}, id='2df9fc8f-585f-4511-911e-bba2efdfe8ed'), AIMessage(content='The capital of China is **Beijing**.', additional_kwargs={}, response_metadata={'prompt_feedback': {'block_reason': 0, 'safety_ratings': []}, 'finish_reason': 'STOP', 'safety_ratings': []}, id='run--e31ed995-1a09-4d2d-aa57-b45c49a0c3f0-0', usage_metadata={'input_tokens': 22, 'output_tokens': 9, 'total_tokens': 31, 'input_token_details': {'cache_read': 0}})]}, next=(), config={'configurable': {'thread_id': '1', 'checkpoint_ns': '', 'checkpoint_id': '1f079d5c-e13e-6d58-8004-e8528b9fdbc0'}}, metadata={'source': 'loop', 'step': 4, 'parents': {}}, created_at='2025-08-15T12:46:04.088766+00:00', parent_config={'configurable': {'thread_id': '1', 'checkpoint_ns': '', 'checkpoint_id': '1f079d5c-b9ef-6631-8003-3a8874efea82'}}, tasks=(), interrupts=())\n",
      "StateSnapshot(values={'message': [HumanMessage(content='what is capital of USA?', additional_kwargs={}, response_metadata={}, id='4af99ff7-a35f-490b-9fd4-ed29e1f5d3a5'), AIMessage(content='The capital of the USA is **Washington, D.C.**', additional_kwargs={}, response_metadata={'prompt_feedback': {'block_reason': 0, 'safety_ratings': []}, 'finish_reason': 'STOP', 'safety_ratings': []}, id='run--843fa5ce-44e5-43af-a8d2-956d053a12ed-0', usage_metadata={'input_tokens': 6, 'output_tokens': 14, 'total_tokens': 20, 'input_token_details': {'cache_read': 0}}), HumanMessage(content='and China?', additional_kwargs={}, response_metadata={}, id='2df9fc8f-585f-4511-911e-bba2efdfe8ed')]}, next=('chat_node',), config={'configurable': {'thread_id': '1', 'checkpoint_ns': '', 'checkpoint_id': '1f079d5c-b9ef-6631-8003-3a8874efea82'}}, metadata={'source': 'loop', 'step': 3, 'parents': {}}, created_at='2025-08-15T12:45:59.967288+00:00', parent_config={'configurable': {'thread_id': '1', 'checkpoint_ns': '', 'checkpoint_id': '1f079d5c-b9e5-692c-8002-f8d9eeaba19f'}}, tasks=(PregelTask(id='d4610104-e3e8-b6db-05f8-aceb60db4f9f', name='chat_node', path=('__pregel_pull', 'chat_node'), error=None, interrupts=(), state=None, result={'message': [AIMessage(content='The capital of China is **Beijing**.', additional_kwargs={}, response_metadata={'prompt_feedback': {'block_reason': 0, 'safety_ratings': []}, 'finish_reason': 'STOP', 'safety_ratings': []}, id='run--e31ed995-1a09-4d2d-aa57-b45c49a0c3f0-0', usage_metadata={'input_tokens': 22, 'output_tokens': 9, 'total_tokens': 31, 'input_token_details': {'cache_read': 0}})]}),), interrupts=())\n",
      "StateSnapshot(values={'message': [HumanMessage(content='what is capital of USA?', additional_kwargs={}, response_metadata={}, id='4af99ff7-a35f-490b-9fd4-ed29e1f5d3a5'), AIMessage(content='The capital of the USA is **Washington, D.C.**', additional_kwargs={}, response_metadata={'prompt_feedback': {'block_reason': 0, 'safety_ratings': []}, 'finish_reason': 'STOP', 'safety_ratings': []}, id='run--843fa5ce-44e5-43af-a8d2-956d053a12ed-0', usage_metadata={'input_tokens': 6, 'output_tokens': 14, 'total_tokens': 20, 'input_token_details': {'cache_read': 0}})]}, next=('__start__',), config={'configurable': {'thread_id': '1', 'checkpoint_ns': '', 'checkpoint_id': '1f079d5c-b9e5-692c-8002-f8d9eeaba19f'}}, metadata={'source': 'input', 'step': 2, 'parents': {}}, created_at='2025-08-15T12:45:59.963268+00:00', parent_config={'configurable': {'thread_id': '1', 'checkpoint_ns': '', 'checkpoint_id': '1f079d5c-8580-6eba-8001-f8996174b6f6'}}, tasks=(PregelTask(id='f649946f-5697-82c0-d636-2b1d8665cb8f', name='__start__', path=('__pregel_pull', '__start__'), error=None, interrupts=(), state=None, result={'message': [HumanMessage(content='and China?', additional_kwargs={}, response_metadata={}, id='2df9fc8f-585f-4511-911e-bba2efdfe8ed')]}),), interrupts=())\n",
      "StateSnapshot(values={'message': [HumanMessage(content='what is capital of USA?', additional_kwargs={}, response_metadata={}, id='4af99ff7-a35f-490b-9fd4-ed29e1f5d3a5'), AIMessage(content='The capital of the USA is **Washington, D.C.**', additional_kwargs={}, response_metadata={'prompt_feedback': {'block_reason': 0, 'safety_ratings': []}, 'finish_reason': 'STOP', 'safety_ratings': []}, id='run--843fa5ce-44e5-43af-a8d2-956d053a12ed-0', usage_metadata={'input_tokens': 6, 'output_tokens': 14, 'total_tokens': 20, 'input_token_details': {'cache_read': 0}})]}, next=(), config={'configurable': {'thread_id': '1', 'checkpoint_ns': '', 'checkpoint_id': '1f079d5c-8580-6eba-8001-f8996174b6f6'}}, metadata={'source': 'loop', 'step': 1, 'parents': {}}, created_at='2025-08-15T12:45:54.469445+00:00', parent_config={'configurable': {'thread_id': '1', 'checkpoint_ns': '', 'checkpoint_id': '1f079d5c-1d93-6148-8000-346f7f42bded'}}, tasks=(), interrupts=())\n",
      "StateSnapshot(values={'message': [HumanMessage(content='what is capital of USA?', additional_kwargs={}, response_metadata={}, id='4af99ff7-a35f-490b-9fd4-ed29e1f5d3a5')]}, next=('chat_node',), config={'configurable': {'thread_id': '1', 'checkpoint_ns': '', 'checkpoint_id': '1f079d5c-1d93-6148-8000-346f7f42bded'}}, metadata={'source': 'loop', 'step': 0, 'parents': {}}, created_at='2025-08-15T12:45:43.571693+00:00', parent_config={'configurable': {'thread_id': '1', 'checkpoint_ns': '', 'checkpoint_id': '1f079d5c-1d7a-6a1f-bfff-57a0a7e3bcba'}}, tasks=(PregelTask(id='95fa8d73-c483-96f9-8b7a-09da651cef87', name='chat_node', path=('__pregel_pull', 'chat_node'), error=None, interrupts=(), state=None, result={'message': [AIMessage(content='The capital of the USA is **Washington, D.C.**', additional_kwargs={}, response_metadata={'prompt_feedback': {'block_reason': 0, 'safety_ratings': []}, 'finish_reason': 'STOP', 'safety_ratings': []}, id='run--843fa5ce-44e5-43af-a8d2-956d053a12ed-0', usage_metadata={'input_tokens': 6, 'output_tokens': 14, 'total_tokens': 20, 'input_token_details': {'cache_read': 0}})]}),), interrupts=())\n",
      "StateSnapshot(values={'message': []}, next=('__start__',), config={'configurable': {'thread_id': '1', 'checkpoint_ns': '', 'checkpoint_id': '1f079d5c-1d7a-6a1f-bfff-57a0a7e3bcba'}}, metadata={'source': 'input', 'step': -1, 'parents': {}}, created_at='2025-08-15T12:45:43.561679+00:00', parent_config=None, tasks=(PregelTask(id='2eba92ce-ec13-f5d0-7306-58030959407f', name='__start__', path=('__pregel_pull', '__start__'), error=None, interrupts=(), state=None, result={'message': [HumanMessage(content='what is capital of USA?', additional_kwargs={}, response_metadata={}, id='4af99ff7-a35f-490b-9fd4-ed29e1f5d3a5')]}),), interrupts=())\n"
     ]
    }
   ],
   "source": [
    "for i in chatbot.get_state_history(config=config):\n",
    "    print(i)"
   ]
  },
  {
   "cell_type": "code",
   "execution_count": null,
   "id": "75fc4735-edcc-4710-9355-bee442afe83e",
   "metadata": {},
   "outputs": [],
   "source": []
  }
 ],
 "metadata": {
  "kernelspec": {
   "display_name": "Python (.lang-graph)",
   "language": "python",
   "name": "lang_graph"
  },
  "language_info": {
   "codemirror_mode": {
    "name": "ipython",
    "version": 3
   },
   "file_extension": ".py",
   "mimetype": "text/x-python",
   "name": "python",
   "nbconvert_exporter": "python",
   "pygments_lexer": "ipython3",
   "version": "3.11.0"
  }
 },
 "nbformat": 4,
 "nbformat_minor": 5
}
